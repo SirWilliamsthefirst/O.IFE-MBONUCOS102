{
 "cells": [
  {
   "cell_type": "code",
   "execution_count": 2,
   "id": "086a0189-2484-41d0-8a85-bb97d1917426",
   "metadata": {},
   "outputs": [
    {
     "name": "stdout",
     "output_type": "stream",
     "text": [
      "Hi my name is Mattew. I am String\n",
      "<class 'str'>\n",
      "Hi my name is precious. I am also a string\n",
      "<class 'str'>\n"
     ]
    }
   ],
   "source": [
    "# python program to print strings and type \n",
    "str1 = \"Hi my name is Mattew. I am String\"\n",
    "str2 = 'Hi my name is precious. I am also a string'\n",
    "\n",
    "#displaying string st1 and its type\n",
    "print(str1)\n",
    "print(type(str1))\n",
    "\n",
    "#displaying string st2 and its type\n",
    "print(str2)\n",
    "print(type(str2))\n"
   ]
  },
  {
   "cell_type": "code",
   "execution_count": null,
   "id": "627d50b5-b93e-4857-8864-90fac20f3830",
   "metadata": {},
   "outputs": [],
   "source": []
  }
 ],
 "metadata": {
  "kernelspec": {
   "display_name": "Python 3 (ipykernel)",
   "language": "python",
   "name": "python3"
  },
  "language_info": {
   "codemirror_mode": {
    "name": "ipython",
    "version": 3
   },
   "file_extension": ".py",
   "mimetype": "text/x-python",
   "name": "python",
   "nbconvert_exporter": "python",
   "pygments_lexer": "ipython3",
   "version": "3.11.7"
  }
 },
 "nbformat": 4,
 "nbformat_minor": 5
}
