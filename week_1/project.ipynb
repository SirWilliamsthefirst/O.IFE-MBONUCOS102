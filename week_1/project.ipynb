{
 "cells": [
  {
   "cell_type": "code",
   "execution_count": null,
   "id": "7098c9d4-aa62-423c-afc9-bac9974303d8",
   "metadata": {},
   "outputs": [
    {
     "name": "stdout",
     "output_type": "stream",
     "text": [
      "Enter principal amount($): 234\n",
      "Enter rate(%): 45\n",
      "Enter time required(yrs): 4\n",
      "Enter n amount: 5\n",
      "Enter m amount: 2\n",
      "Which formula do you wish to use?if simple interest(press s),if compound interest(press c),if annuity plan(press a): a\n"
     ]
    },
    {
     "name": "stdout",
     "output_type": "stream",
     "text": [
      "Annuity Plan: 83199792.0\n"
     ]
    }
   ],
   "source": [
    "def calculate_simple_interest(p,r,t):\n",
    "    simple_interest = p*(1+(r*t/100))\n",
    "    print(\"Simple Interest:\", float(simple_interest))\n",
    "\n",
    "def calculate_compound_interest(p,r,t,n):\n",
    "    compound_interest = p*(1+(r/n))**(n*t)\n",
    "    print(\"Compound Interest:\", float(compound_interest))\n",
    "\n",
    "def calculate_annuity_plan(p,r,t,n,m):\n",
    "    annuity_plan = p*m*t*((((1+(r/n))**n*t)-1)/(r/n))\n",
    "    print(\"Annuity Plan:\" ,float(annuity_plan))\n",
    "\n",
    "p = float(input(\"Enter principal amount($):\"))\n",
    "r = float(input(\"Enter rate(%):\"))\n",
    "t = float(input(\"Enter time required(yrs):\"))\n",
    "n = float(input(\"Enter n amount:\"))\n",
    "m = float(input(\"Enter m amount:\"))\n",
    "\n",
    "\n",
    "formula = input(\"Which formula do you wish to use?if simple interest(press s),if compound interest(press c),if annuity plan(press a):\")\n",
    "\n",
    "if formula.lower() == 's':\n",
    "    calculate_simple_interest(p,r, t)\n",
    "    \n",
    "\n",
    "elif formula.lower() == 'c':\n",
    "    calculate_compound_interest(p, r, t,n)\n",
    "    \n",
    "\n",
    "elif formula.lower() == 'a':\n",
    "    calculate_annuity_plan(p, r, t,n,m)\n",
    "    \n",
    "\n",
    "else:\n",
    "    print(\"Invalid input\")"
   ]
  },
  {
   "cell_type": "code",
   "execution_count": null,
   "id": "98eede0b-348f-4076-81ea-1779d52e5245",
   "metadata": {},
   "outputs": [],
   "source": []
  }
 ],
 "metadata": {
  "kernelspec": {
   "display_name": "Python 3 (ipykernel)",
   "language": "python",
   "name": "python3"
  },
  "language_info": {
   "codemirror_mode": {
    "name": "ipython",
    "version": 3
   },
   "file_extension": ".py",
   "mimetype": "text/x-python",
   "name": "python",
   "nbconvert_exporter": "python",
   "pygments_lexer": "ipython3",
   "version": "3.11.7"
  }
 },
 "nbformat": 4,
 "nbformat_minor": 5
}
