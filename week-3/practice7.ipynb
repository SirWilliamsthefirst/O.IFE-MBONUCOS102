{
 "cells": [
  {
   "cell_type": "code",
   "execution_count": null,
   "id": "9fbbdae1-4a3f-4235-9018-a637fc1eb933",
   "metadata": {
    "vscode": {
     "languageId": "python"
    }
   },
   "outputs": [],
   "source": [
    "#Convert to foalt\n",
    "\n",
    "grade = int(97)\n",
    "gpa = int(5)\n",
    "cgpa = int(\"4.7\")\n",
    "\n",
    "print(f\"Grade = {grade}\")\n",
    "print(f\"GPA = {gpa}\")\n",
    "print(f\"CGPA = {cgpa}\")"
   ]
  },
  {
   "cell_type": "code",
   "execution_count": null,
   "id": "d8327611-4da1-4475-9e73-0f186111a563",
   "metadata": {
    "vscode": {
     "languageId": "python"
    }
   },
   "outputs": [],
   "source": [
    "grade = int(97)\n",
    "gpa = int(5)\n",
    "cgpa = int(\"4.7\")\n",
    "\n",
    "print(f\"Grade = {grade}\")\n",
    "print(f\"GPA = {gpa}\")\n",
    "print(f\"CGPA = {cgpa}\")"
   ]
  },
  {
   "cell_type": "code",
   "execution_count": null,
   "id": "23840418-a8e3-4ef5-a882-b2ed71076b31",
   "metadata": {
    "vscode": {
     "languageId": "python"
    }
   },
   "outputs": [],
   "source": []
  }
 ],
 "metadata": {
  "kernelspec": {
   "display_name": "Python 3 (ipykernel)",
   "language": "python",
   "name": "python3"
  },
  "language_info": {
   "name": ""
  }
 },
 "nbformat": 4,
 "nbformat_minor": 5
}
