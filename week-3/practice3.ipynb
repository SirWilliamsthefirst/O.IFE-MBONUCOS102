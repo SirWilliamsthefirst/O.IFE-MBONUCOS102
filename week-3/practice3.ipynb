{
 "cells": [
  {
   "cell_type": "code",
   "execution_count": 1,
   "id": "375183c8-d1b5-4f33-b264-49d76c3a8e13",
   "metadata": {},
   "outputs": [
    {
     "name": "stdout",
     "output_type": "stream",
     "text": [
      "['Anaconda', 786, 2.23, 'Jupyter', 70.2]\n",
      "Anaconda\n",
      "[786, 2.23]\n",
      "[2.23, 'Jupyter', 70.2]\n",
      "[321, 'python', 321, 'python']\n",
      "['Anaconda', 786, 2.23, 'Jupyter', 70.2, 321, 'python']\n"
     ]
    },
    {
     "ename": "",
     "evalue": "",
     "output_type": "error",
     "traceback": [
      "\u001b[1;31mThe Kernel crashed while executing code in the current cell or a previous cell. \n",
      "\u001b[1;31mPlease review the code in the cell(s) to identify a possible cause of the failure. \n",
      "\u001b[1;31mClick <a href='https://aka.ms/vscodeJupyterKernelCrash'>here</a> for more info. \n",
      "\u001b[1;31mView Jupyter <a href='command:jupyter.viewOutput'>log</a> for further details."
     ]
    }
   ],
   "source": [
    "list = [ 'Anaconda',786,2.23, 'Jupyter',70.2]\n",
    "shortlist = [321,'python']\n",
    "\n",
    "print(list)            #'''Prints complete list'''(only works in jupiter)\n",
    "print(list[0])         #Prints first element of the list\n",
    "print(list[1:3])       #Prints element starting from 2nd till 3rd\n",
    "print(list[2:])        #'''Prints element starting form 3rd element'''\n",
    "print(shortlist * 2)   #Prints list two times\n",
    "print(list + shortlist) #Prints concatenated lists"
   ]
  }
 ],
 "metadata": {
  "kernelspec": {
   "display_name": "Python 3 (ipykernel)",
   "language": "python",
   "name": "python3"
  },
  "language_info": {
   "codemirror_mode": {
    "name": "ipython",
    "version": 3
   },
   "file_extension": ".py",
   "mimetype": "text/x-python",
   "name": "python",
   "nbconvert_exporter": "python",
   "pygments_lexer": "ipython3",
   "version": "3.12.2"
  }
 },
 "nbformat": 4,
 "nbformat_minor": 5
}
