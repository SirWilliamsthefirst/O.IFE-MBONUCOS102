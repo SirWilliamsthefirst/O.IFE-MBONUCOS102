{
 "cells": [
  {
   "cell_type": "code",
   "execution_count": null,
   "id": "375183c8-d1b5-4f33-b264-49d76c3a8e13",
   "metadata": {
    "vscode": {
     "languageId": "python"
    }
   },
   "outputs": [],
   "source": [
    "list = [ 'Anaconda',786,2.23, 'Jupyter',70.2]\n",
    "shortlist = [321,'python']\n",
    "\n",
    "print(list)            '''prints complete list'''\n",
    "print(list[0])         #Prints first element of the list\n",
    "print(list[1:3])       #prints element starting from 2nd till 3rd\n",
    "print(list[2:])        '''Prints element starting form 3rd element'''\n",
    "print(shortlist * 2)   #Prints list two times\n",
    "print(list + shortlist) #prints concatenated lists"
   ]
  }
 ],
 "metadata": {
  "kernelspec": {
   "display_name": "Python 3 (ipykernel)",
   "language": "python",
   "name": "python3"
  },
  "language_info": {
   "name": ""
  }
 },
 "nbformat": 4,
 "nbformat_minor": 5
}
