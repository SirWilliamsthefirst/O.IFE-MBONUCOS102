{
 "cells": [
  {
   "cell_type": "code",
   "execution_count": null,
   "id": "2650ddf5-6bbe-4c5a-b507-d68e9581c7bc",
   "metadata": {},
   "outputs": [],
   "source": [
    "# Convert to int\n",
    "\n",
    "grade = int(70)   #grade will be 70\n",
    "gpa = int(4.9)    #gpa will be 4.9\n",
    "cgpa = int(\"4\")   #cgpa will be 4\n",
    "\n",
    "print(f\"Grade = {grade}\")\n",
    "print(f\"GPA = {gpa}\")\n",
    "print(f\"CGPA = {cgpa}\")"
   ]
  }
 ],
 "metadata": {
  "kernelspec": {
   "display_name": "Python 3 (ipykernel)",
   "language": "python",
   "name": "python3"
  },
  "language_info": {
   "name": ""
  }
 },
 "nbformat": 4,
 "nbformat_minor": 5
}
