{
 "cells": [
  {
   "cell_type": "code",
   "execution_count": null,
   "id": "c9a9e567-070a-4931-95fa-15e64056df52",
   "metadata": {},
   "outputs": [],
   "source": [
    "#Returns false as game_1 is not equal to game_2\n",
    "game_1 = 2\n",
    "game_2 = 4\n",
    "print(bool(game_1 == game_2))\n",
    "#or\n",
    "print game_1 == game_2)\n",
    "\n",
    "#Returns false as val in none\n",
    "val = None\n",
    "print(bool(val))\n",
    "\n",
    "#Returns false as num is an empty sequence\n",
    "num = ()\n",
    "print(bool(num))\n",
    "\n",
    "#Returns true as age is boolean\n",
    "age = ture\n",
    "print(bool(age))"
   ]
  }
 ],
 "metadata": {
  "kernelspec": {
   "display_name": "Python 3 (ipykernel)",
   "language": "python",
   "name": "python3"
  },
  "language_info": {
   "name": ""
  }
 },
 "nbformat": 4,
 "nbformat_minor": 5
}
