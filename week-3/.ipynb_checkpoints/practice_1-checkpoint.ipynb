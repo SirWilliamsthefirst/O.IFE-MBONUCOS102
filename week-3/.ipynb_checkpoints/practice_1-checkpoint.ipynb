{
 "cells": [
  {
   "cell_type": "code",
   "execution_count": null,
   "id": "0158a842-2024-44b9-bedf-870e13bc5718",
   "metadata": {},
   "outputs": [],
   "source": [
    "str = input(\"Enter state of origine:\")\n",
    "\n",
    "print(\"Your state of origine is :\"str)\n",
    "print(\"the first character is: \",str[0])\n",
    "print(\"the characterrist starting from 3rd to 5th are:\"str[2:5])\n",
    "print(\"the string starting from 3rd character is: \",str[2:])\n",
    "print(\"State fo origin two times \",str * 2)"
   ]
  },
  {
   "cell_type": "code",
   "execution_count": null,
   "id": "ee3aaa87-13bb-479e-b8e6-75bfaa687bbc",
   "metadata": {},
   "outputs": [],
   "source": []
  }
 ],
 "metadata": {
  "kernelspec": {
   "display_name": "Python 3 (ipykernel)",
   "language": "python",
   "name": "python3"
  },
  "language_info": {
   "name": ""
  }
 },
 "nbformat": 4,
 "nbformat_minor": 5
}
