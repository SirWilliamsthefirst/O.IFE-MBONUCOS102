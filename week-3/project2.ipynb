{
 "cells": [
  {
   "cell_type": "code",
   "execution_count": 4,
   "id": "1ba5e3d9-7f8b-404e-9ff1-f000a2506b6c",
   "metadata": {},
   "outputs": [
    {
     "name": "stdout",
     "output_type": "stream",
     "text": [
      "The complex roots of the equation are (-0.6666666666666666+0.47140452079103173j) and (-0.6666666666666666-0.47140452079103173j)\n"
     ]
    }
   ],
   "source": [
    "import math\n",
    "import cmath\n",
    "\n",
    "def quad(a, b, c):\n",
    "    determinant = b**2 - 4*a*c\n",
    "    if determinant >= 0:\n",
    "        root1 = (-b + math.sqrt(determinant)) / (2*a)\n",
    "        root2 = (-b - math.sqrt(determinant)) / (2*a)\n",
    "        if determinant == 0:\n",
    "            print(f\"The root of the equation is {root1}\")\n",
    "        else:\n",
    "            print(f\"The roots of the equation are {root1} and {root2}\")\n",
    "    else:\n",
    "        root1 = (-b + cmath.sqrt(determinant)) / (2*a)\n",
    "        root2 = (-b - cmath.sqrt(determinant)) / (2*a)\n",
    "        print(f\"The complex roots of the equation are {root1} and {root2}\")\n",
    "\n",
    "def cubic(a, b, c, d):\n",
    "    f = ((3*c/a) - (b**2/a**2))/3\n",
    "    g = ((2*(b**3)/a**3) - (9*b*c/a**2) + (27*d/a))/27\n",
    "    h = g**2/4 + f**3/27\n",
    "\n",
    "    if h > 0:\n",
    "        R = -(g/2) + math.sqrt(h)\n",
    "        S = R**(1/3)\n",
    "        T = -(g/2) - math.sqrt(h)\n",
    "        U = T**(1/3)\n",
    "        root1 = (S + U) - (b/(3*a))\n",
    "        print(f\"The real root is {root1}\")\n",
    "        quad(a, b + a*root1, c + b*root1 + a*root1**2)\n",
    "    elif f == 0 and g == 0 and h == 0:\n",
    "        root = -(d/a)**(1/3)\n",
    "        print(f\"All roots are real and equal: {root}\")\n",
    "    else:\n",
    "        i = math.sqrt(g**2/4 - h)\n",
    "        j = i**(1/3)\n",
    "        k = math.acos(-g/(2*i))\n",
    "        L = -j\n",
    "        M = math.cos(k/3)\n",
    "        N = math.sqrt(3) * math.sin(k/3)\n",
    "        P = -(b/(3*a))\n",
    "        root1 = 2*j*math.cos(k/3) - (b/(3*a))\n",
    "        root2 = L*(M + N) + P\n",
    "        root3 = L*(M - N) + P\n",
    "        print(f\"The real roots are {root1}, {root2}, and {root3}\")\n",
    "\n",
    "def main():\n",
    "    response = int(input(\"Enter the degree of the polynomial (2 or 3): \"))\n",
    "    \n",
    "    if response == 2:\n",
    "        a = float(input(\"Enter value of a: \"))\n",
    "        b = float(input(\"Enter value of b: \"))\n",
    "        c = float(input(\"Enter value of c: \"))\n",
    "        quad(a, b, c)\n",
    "    elif response == 3:\n",
    "        a = float(input(\"Enter value of a: \"))\n",
    "        b = float(input(\"Enter value of b: \"))\n",
    "        c = float(input(\"Enter value of c: \"))\n",
    "        d = float(input(\"Enter value of d: \"))\n",
    "        cubic(a, b, c, d)\n",
    "    else:\n",
    "        print(\"Unsupported calculation\")\n",
    "\n",
    "main()\n"
   ]
  }
 ],
 "metadata": {
  "kernelspec": {
   "display_name": "Python 3 (ipykernel)",
   "language": "python",
   "name": "python3"
  },
  "language_info": {
   "codemirror_mode": {
    "name": "ipython",
    "version": 3
   },
   "file_extension": ".py",
   "mimetype": "text/x-python",
   "name": "python",
   "nbconvert_exporter": "python",
   "pygments_lexer": "ipython3",
   "version": "3.12.2"
  }
 },
 "nbformat": 4,
 "nbformat_minor": 5
}
