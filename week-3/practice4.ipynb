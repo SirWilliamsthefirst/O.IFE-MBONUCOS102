{
 "cells": [
  {
   "cell_type": "code",
   "execution_count": null,
   "id": "4851cad8-e797-46c8-951a-82b58345a5fb",
   "metadata": {
    "vscode": {
     "languageId": "python"
    }
   },
   "outputs": [],
   "source": [
    "tuple = (\"Ekiti\",750,'Oshogbo',250,\"Akure\",500)\n",
    "s_tuple = (\"Abeokuta\",300,\"Ogbomoso\")\n",
    "\n",
    "#print the complete tuple\n",
    "print(tuple)\n",
    "\n",
    "#print last element of the tuple \n",
    "print(tuple[-1])\n",
    "\n",
    "#print element of the tuple starting for 2nd till 3rd\n",
    "print (tuple[2:4])\n",
    "\n",
    "#print element of the tuple starting from 3rd element \n",
    "print(tuple[3:])\n",
    "\n",
    "#print the contents of the tuples twice\n",
    "print(s_tuple * 3)\n",
    "\n",
    "#prints concatenated tuples\n",
    "print(tuple + s_tuple)"
   ]
  },
  {
   "cell_type": "code",
   "execution_count": null,
   "id": "cc2920b8-d02b-4748-b101-6daab840b904",
   "metadata": {
    "vscode": {
     "languageId": "python"
    }
   },
   "outputs": [],
   "source": []
  }
 ],
 "metadata": {
  "kernelspec": {
   "display_name": "Python 3 (ipykernel)",
   "language": "python",
   "name": "python3"
  },
  "language_info": {
   "name": ""
  }
 },
 "nbformat": 4,
 "nbformat_minor": 5
}
