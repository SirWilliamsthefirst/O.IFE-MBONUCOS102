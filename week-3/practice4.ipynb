{
 "cells": [
  {
   "cell_type": "code",
   "execution_count": 1,
   "id": "4851cad8-e797-46c8-951a-82b58345a5fb",
   "metadata": {},
   "outputs": [
    {
     "name": "stdout",
     "output_type": "stream",
     "text": [
      "('Ekiti', 750, 'Oshogbo', 250, 'Akure', 500)\n",
      "500\n",
      "('Oshogbo', 250)\n",
      "(250, 'Akure', 500)\n",
      "('Abeokuta', 300, 'Ogbomoso', 'Abeokuta', 300, 'Ogbomoso', 'Abeokuta', 300, 'Ogbomoso')\n",
      "('Ekiti', 750, 'Oshogbo', 250, 'Akure', 500, 'Abeokuta', 300, 'Ogbomoso')\n"
     ]
    }
   ],
   "source": [
    "tuple = (\"Ekiti\",750,'Oshogbo',250,\"Akure\",500)\n",
    "s_tuple = (\"Abeokuta\",300,\"Ogbomoso\")\n",
    "\n",
    "#print the complete tuple\n",
    "print(tuple)\n",
    "\n",
    "#print last element of the tuple \n",
    "print(tuple[-1])\n",
    "\n",
    "#print element of the tuple starting for 2nd till 3rd\n",
    "print (tuple[2:4])\n",
    "\n",
    "#print element of the tuple starting from 3rd element \n",
    "print(tuple[3:])\n",
    "\n",
    "#print the contents of the tuples twice\n",
    "print(s_tuple * 3)\n",
    "\n",
    "#prints concatenated tuples\n",
    "print(tuple + s_tuple)"
   ]
  },
  {
   "cell_type": "code",
   "execution_count": null,
   "id": "cc2920b8-d02b-4748-b101-6daab840b904",
   "metadata": {},
   "outputs": [],
   "source": []
  }
 ],
 "metadata": {
  "kernelspec": {
   "display_name": "Python 3 (ipykernel)",
   "language": "python",
   "name": "python3"
  },
  "language_info": {
   "codemirror_mode": {
    "name": "ipython",
    "version": 3
   },
   "file_extension": ".py",
   "mimetype": "text/x-python",
   "name": "python",
   "nbconvert_exporter": "python",
   "pygments_lexer": "ipython3",
   "version": "3.12.2"
  }
 },
 "nbformat": 4,
 "nbformat_minor": 5
}
