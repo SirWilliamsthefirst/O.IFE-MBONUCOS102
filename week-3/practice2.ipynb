{
 "cells": [
  {
   "cell_type": "code",
   "execution_count": null,
   "id": "a85374a6-c7bc-49ec-9c8c-8455c1f5c30d",
   "metadata": {},
   "outputs": [],
   "source": [
    "#Input from user\n",
    "m = float (input(\"Enter mass in kilograms\"))\n",
    "\n",
    "# Constant value for the speed of light in m/s\n",
    "c = 299792458\n",
    "\n",
    "# Calculating the result\n",
    "print(f\"The energy equivalent to {m} kg of mass is {energy} joules.\")"
   ]
  }
 ],
 "metadata": {
  "kernelspec": {
   "display_name": "Python 3 (ipykernel)",
   "language": "python",
   "name": "python3"
  },
  "language_info": {
   "name": ""
  }
 },
 "nbformat": 4,
 "nbformat_minor": 5
}
